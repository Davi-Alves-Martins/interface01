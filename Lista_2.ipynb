{
  "nbformat": 4,
  "nbformat_minor": 0,
  "metadata": {
    "colab": {
      "provenance": [],
      "include_colab_link": true
    },
    "kernelspec": {
      "name": "python3",
      "display_name": "Python 3"
    },
    "language_info": {
      "name": "python"
    }
  },
  "cells": [
    {
      "cell_type": "markdown",
      "metadata": {
        "id": "view-in-github",
        "colab_type": "text"
      },
      "source": [
        "<a href=\"https://colab.research.google.com/github/Davi-Alves-Martins/interface01/blob/master/Lista_2.ipynb\" target=\"_parent\"><img src=\"https://colab.research.google.com/assets/colab-badge.svg\" alt=\"Open In Colab\"/></a>"
      ]
    },
    {
      "cell_type": "code",
      "execution_count": null,
      "metadata": {
        "id": "dCXhfiY6_dhg"
      },
      "outputs": [],
      "source": []
    },
    {
      "cell_type": "markdown",
      "source": [
        "## Para essa lista, não utilize nenhuma biblioteca ou funções não mostradas em sala"
      ],
      "metadata": {
        "id": "Z3kHxPgBOewf"
      }
    },
    {
      "cell_type": "code",
      "source": [],
      "metadata": {
        "id": "Rnz5Jr6Z_ekQ"
      },
      "execution_count": null,
      "outputs": []
    },
    {
      "cell_type": "markdown",
      "source": [
        "1. Faça um programa que peça números inteiros ao usuário e calcula a média dos valores digitados. O programa deverá parar quando o usuário digitar um número negativo (que não deverá ser incluído no cálculo)."
      ],
      "metadata": {
        "id": "jZB7Gg2ME8H3"
      }
    },
    {
      "cell_type": "code",
      "source": [
        "numero1 = int(input('Digite um número: '))\n",
        "numero2 = int(input('Digite outro número: '))\n",
        "numero3 = int(input('Digite mais um número: '))\n",
        "\n",
        "while numero1 < 0 or numero2 < 0 or numero3 < 0:\n",
        "    print('Digite apenas números positivos!')\n",
        "    numero1 = int(input('Digite um número: '))\n",
        "    numero2 = int(input('Digite outro número: '))\n",
        "    numero3 = int(input('Digite mais um número: '))\n",
        "\n",
        "else:\n",
        "    print(f'({numero1} + {numero2} + {numero3}) / 3 = {(numero1 + numero2 + numero3) / 3}')"
      ],
      "metadata": {
        "id": "RVOCoknL_ehW",
        "colab": {
          "base_uri": "https://localhost:8080/"
        },
        "outputId": "29d1fe9b-7b5f-4bcd-e245-882354b8db18"
      },
      "execution_count": null,
      "outputs": [
        {
          "output_type": "stream",
          "name": "stdout",
          "text": [
            "Digite um número: 2\n",
            "Digite outro número: 3\n",
            "Digite mais um número: 4\n",
            "(2 + 3 + 4) / 3 = 3.0\n"
          ]
        }
      ]
    },
    {
      "cell_type": "markdown",
      "source": [
        "2. Faça um programa que peça números inteiros ao usuário e conta quantos números positivos e quantos números negativos foram digitados. O programa deverá parar quando o número zero for digitado, mostrando a tela os resultados."
      ],
      "metadata": {
        "id": "AF_NBZD4E--E"
      }
    },
    {
      "cell_type": "code",
      "source": [
        "positivos = 0\n",
        "negativos = 0\n",
        "\n",
        "print(\"Digite números inteiros (digite 0 para encerrar):\")\n",
        "\n",
        "while True:\n",
        "    numero = int(input(\"Digite um número: \"))\n",
        "\n",
        "    if numero == 0:\n",
        "        print(\"Encerrando o programa...\")\n",
        "        break\n",
        "    elif numero > 0:\n",
        "        positivos = positivos + 1\n",
        "    elif numero < 0:\n",
        "        negativos = negativos + 1\n",
        "\n",
        "print(\"\\nRESULTADO FINAL:\")\n",
        "print(f\"Números positivos digitados: {positivos}\")\n",
        "print(f\"Números negativos digitados: {negativos}\")"
      ],
      "metadata": {
        "id": "1l3CUBd-_eeg",
        "colab": {
          "base_uri": "https://localhost:8080/"
        },
        "outputId": "c0ea55fc-4363-42ad-f2f1-f17918d36460"
      },
      "execution_count": null,
      "outputs": [
        {
          "output_type": "stream",
          "name": "stdout",
          "text": [
            "Digite números inteiros (digite 0 para encerrar):\n",
            "Digite um número: 2\n",
            "Digite um número: 3\n",
            "Digite um número: 4\n",
            "Digite um número: -3\n",
            "Digite um número: 0\n",
            "Encerrando o programa...\n",
            "\n",
            "RESULTADO FINAL:\n",
            "Números positivos digitados: 3\n",
            "Números negativos digitados: 1\n"
          ]
        }
      ]
    },
    {
      "cell_type": "markdown",
      "source": [
        "\n",
        "3. Faça um programa que peça uma nota, entre zero e dez. Mostre uma mensagem caso o valor seja inválido e continue pedindo até que o usuário informe um valor válido."
      ],
      "metadata": {
        "id": "1b4ISCUnFDkJ"
      }
    },
    {
      "cell_type": "code",
      "source": [
        "print('Dê uma nota de 0 a 10, neste trabalho: ')\n",
        "\n",
        "nota = int(input())\n",
        "\n",
        "while nota > 10 or nota < 0:\n",
        "    print('Digite apenas um número entre 0 e 10')\n",
        "    nota = int(input('Digite outro número: '))\n",
        "\n",
        "print('Obrigado pela nota!')\n",
        "\n"
      ],
      "metadata": {
        "id": "Nop5MLGm_ebz",
        "colab": {
          "base_uri": "https://localhost:8080/"
        },
        "outputId": "0bd494a2-a69e-4ea4-bb48-e9ee0e8b143b"
      },
      "execution_count": null,
      "outputs": [
        {
          "output_type": "stream",
          "name": "stdout",
          "text": [
            "Dê uma nota de 0 a 10, neste trabalho: \n",
            "-2\n",
            "Digite apenas um número entre 0 e 10\n",
            "Digite outro número: 20\n",
            "Digite apenas um número entre 0 e 10\n",
            "Digite outro número: 30\n",
            "Digite apenas um número entre 0 e 10\n",
            "Digite outro número: 70\n",
            "Digite apenas um número entre 0 e 10\n",
            "Digite outro número: 10\n",
            "Obrigado pela nota!\n"
          ]
        }
      ]
    },
    {
      "cell_type": "markdown",
      "source": [
        "\n",
        "4. Faça um programa que peça o valor total de um orçamento (valor igual ou maior do que R$100.00). Então, peça vários valores de serviço até chegar no valor total e mostre na tela o valor de cada serviço que será executado. Note que nem sempre será possível utilizar todo orçamento. Quando o valor do serviço estourar ou consumir todo orçamento, o programa deverá avisar que nenhum outro serviço poderá ser pedido."
      ],
      "metadata": {
        "id": "azFRtBFKFG89"
      }
    },
    {
      "cell_type": "code",
      "source": [
        "\n",
        "print('Bem vindo a loja de personalização de carros\\nColocar Aerofólio - R$93.00\\nPintura - R$84.00\\nRebaixamento - R$215.00\\nBody kit - R$458.00')\n",
        "\n",
        "orcamento = float(input(\"Digite o valor do orçamento (mínimo R$100.00): \"))\n",
        "\n",
        "while orcamento < 100.00:\n",
        "    print(\"O valor deve ser igual ou maior que R$100.00.\")\n",
        "    orcamento = float(input(\"Digite o valor do orçamento (mínimo R$100.00): \"))\n",
        "\n",
        "serviços = [0.0] * 100\n",
        "indice = 0\n",
        "total_utilizado = 0.0\n",
        "\n",
        "while indice < 100:\n",
        "    restante = orcamento - total_utilizado\n",
        "    print(f\"Orçamento restante: R${restante}\")\n",
        "\n",
        "    valor = float(input(\"Digite o valor do próximo serviço (ou 0 para encerrar): \"))\n",
        "\n",
        "    if valor == 0:\n",
        "        print(\"Encerrando entrada de serviços.\")\n",
        "        break\n",
        "    elif valor < 0:\n",
        "        print(\"Valor inválido. Tente novamente.\")\n",
        "    elif valor <= restante:\n",
        "        serviços[indice] = valor\n",
        "        total_utilizado = total_utilizado + valor\n",
        "        indice = indice + 1\n",
        "    else:\n",
        "        print(\"Este serviço excede o orçamento. Nenhum outro serviço poderá ser pedido.\")\n",
        "        break\n",
        "\n",
        "\n",
        "print(\"\\nServiços que serão executados:\")\n",
        "for i in range(indice):\n",
        "    print(f\"Serviço {i + 1}: R${serviços[i]}\")\n",
        "\n",
        "print(f\"Total utilizado: R${total_utilizado}\")\n",
        "print(f\"Valor restante: R${orcamento - total_utilizado}\")\n",
        "\n"
      ],
      "metadata": {
        "id": "QC49dJu5_eZF",
        "colab": {
          "base_uri": "https://localhost:8080/"
        },
        "outputId": "bb084553-9cfe-4dac-f8b0-e22b0b0f385c"
      },
      "execution_count": null,
      "outputs": [
        {
          "output_type": "stream",
          "name": "stdout",
          "text": [
            "Bem vindo a loja de personalização de carros\n",
            "Colocar Aerofólio - R$93.00\n",
            "Pintura - R$84.00\n",
            "Rebaixamento - R$215.00\n",
            "Body kit - R$458.00\n",
            "Digite o valor do orçamento (mínimo R$100.00): 800000\n",
            "Orçamento restante: R$800000.00\n",
            "Digite o valor do próximo serviço (ou 0 para encerrar): 1000\n",
            "Orçamento restante: R$799000.00\n",
            "Digite o valor do próximo serviço (ou 0 para encerrar): 2000\n",
            "Orçamento restante: R$797000.00\n",
            "Digite o valor do próximo serviço (ou 0 para encerrar): 0\n",
            "Encerrando entrada de serviços.\n",
            "\n",
            "Serviços que serão executados:\n",
            "Serviço 1: R$1000.0\n",
            "Serviço 2: R$2000.0\n",
            "Total utilizado: R$3000.0\n",
            "Valor restante: R$797000.0\n"
          ]
        }
      ]
    },
    {
      "cell_type": "markdown",
      "source": [
        "5. Faça um programa que leia e valide as seguintes informações:  \n",
        "    a. Nome: maior que 3 caracteres;  \n",
        "    b. Idade: entre 0 e 150;   \n",
        "    c. Salário: maior que zero;  \n",
        "    d. Sexo: 'f' ou 'm';  \n",
        "    e. Estado Civil: 's', 'c', 'v', 'd';   \n",
        "    \n",
        "    Caso alguma condição seja violada, peça para o usuário entrar novamente o valor.\n",
        "\n",
        "    Use a função len(string) para saber o tamanho de um texto (número de caracteres)."
      ],
      "metadata": {
        "id": "d1K0qgLuFLql"
      }
    },
    {
      "cell_type": "code",
      "source": [
        "nome = input(\"Digite seu nome: \")\n",
        "while len(nome) <= 3:\n",
        "    print(\"Erro: nome deve ter mais que 3 caracteres.\")\n",
        "    nome = input(\"Digite seu nome: \")\n",
        "\n",
        "idade = int(input(\"Digite sua idade: \"))\n",
        "while idade < 0 or idade > 150:\n",
        "    print(\"Erro: idade deve estar entre 0 e 150.\")\n",
        "    idade = int(input(\"Digite sua idade: \"))\n",
        "\n",
        "salario = float(input(\"Digite seu salário: \"))\n",
        "while salario <= 0:\n",
        "    print(\"Erro: salário deve ser maior que zero.\")\n",
        "    salario = float(input(\"Digite seu salário: \"))\n",
        "\n",
        "sexo = input(\"Digite seu sexo (f/m): \")\n",
        "while sexo != \"f\" and sexo != \"m\":\n",
        "    print(\"Erro: sexo deve ser 'f' ou 'm'.\")\n",
        "    sexo = input(\"Digite seu sexo (f/m): \")\n",
        "\n",
        "estado_civil = input(\"Digite seu estado civil (s/c/v/d): \")\n",
        "while estado_civil != \"s\" and estado_civil != \"c\" and estado_civil != \"v\" and estado_civil != \"d\":\n",
        "    print(\"Erro: estado civil deve ser 's', 'c', 'v' ou 'd'.\")\n",
        "    estado_civil = input(\"Digite seu estado civil (s/c/v/d): \")\n",
        "\n",
        "print(\"\\nDados válidos inseridos:\")\n",
        "print(\"Nome:\", nome)\n",
        "print(\"Idade:\", idade)\n",
        "print(\"Salário:\", salario)\n",
        "print(\"Sexo:\", sexo)\n",
        "print(\"Estado civil:\", estado_civil)"
      ],
      "metadata": {
        "id": "MhQFW1LgFLKm",
        "colab": {
          "base_uri": "https://localhost:8080/"
        },
        "outputId": "21c58933-776a-4945-efcb-5df460a018fa"
      },
      "execution_count": null,
      "outputs": [
        {
          "output_type": "stream",
          "name": "stdout",
          "text": [
            "Digite seu nome: Da\n",
            "Erro: nome deve ter mais que 3 caracteres.\n",
            "Digite seu nome: Davi\n",
            "Digite sua idade: 19\n",
            "Digite seu salário: 10000\n",
            "Digite seu sexo (f/m): m\n",
            "Digite seu estado civil (s/c/v/d): s\n",
            "\n",
            "Dados válidos inseridos:\n",
            "Nome: Davi\n",
            "Idade: 19\n",
            "Salário: 10000.0\n",
            "Sexo: m\n",
            "Estado civil: s\n"
          ]
        }
      ]
    },
    {
      "cell_type": "markdown",
      "source": [
        "6. Faça um programa que peça dois números inteiros positivos, base e expoente, calcule e mostre o primeiro número elevado ao segundo número. Não utilize a função ou o operador de potência da linguagem. (faça esse programa utilizando o while)"
      ],
      "metadata": {
        "id": "yNVzswkjFTFE"
      }
    },
    {
      "cell_type": "code",
      "source": [
        "print(\"Digite 2 nnúmeros para serem elevados um pelo outro!\")\n",
        "base = int(input(\"Digite um número para ser a base: \"))\n",
        "expoente = int(input(\"Digite um número para ser o expoente: \"))\n",
        "\n",
        "while base < 0 or expoente < 0:\n",
        "    print(\"Digite apenas números positivos\")\n",
        "    break\n",
        "if expoente == 0 and base > 0:\n",
        "    print(\"O resultado da conta é igual a: 1\")\n",
        "elif base == 0 and expoente > 0:\n",
        "    print(\"O resultado da conta é igual a: 0\")\n",
        "\n",
        "while base > 0 and expoente > 0:\n",
        "    resultado = (base ** expoente)\n",
        "    print(resultado)\n",
        "    break"
      ],
      "metadata": {
        "id": "XC7Odp_LFLIL",
        "colab": {
          "base_uri": "https://localhost:8080/"
        },
        "outputId": "31cf979e-eb41-4186-8489-35dae3e2f97d"
      },
      "execution_count": null,
      "outputs": [
        {
          "output_type": "stream",
          "name": "stdout",
          "text": [
            "Digite 2 nnúmeros para serem elevados um pelo outro!\n",
            "Digite um número para ser a base: 0\n",
            "Digite um número para ser o expoente: 2\n",
            "O resultado da conta é igual a: 0\n"
          ]
        }
      ]
    },
    {
      "cell_type": "markdown",
      "source": [
        "7. Faça um programa que peça um número inteiro e mostre a tabuada desse número na tela. Faça utilizando o for. (Essa tarefa poderia ser feita utilizando o while? Por quê?)"
      ],
      "metadata": {
        "id": "DmHku2PQGWdP"
      }
    },
    {
      "cell_type": "code",
      "source": [
        "tabuada = 10\n",
        "numero = int(input(\"Digite um número no qual você deseja saber a tabuada: \"))\n",
        "print(f\"A Tabuada do número {numero} é:\")\n",
        "\n",
        "for i in range(tabuada):\n",
        "    print(f\"{numero} x {i + 1} = {numero * (i + 1)}\")\n"
      ],
      "metadata": {
        "id": "S8pNqfJCFLGP",
        "colab": {
          "base_uri": "https://localhost:8080/"
        },
        "outputId": "8a8f9623-b053-4837-ce5b-315662fdf0a7"
      },
      "execution_count": null,
      "outputs": [
        {
          "output_type": "stream",
          "name": "stdout",
          "text": [
            "Digite um número no qual você deseja saber a tabuada: 10\n",
            "A Tabuada do número 10 é:\n",
            "10 x 1 = 10\n",
            "10 x 2 = 20\n",
            "10 x 3 = 30\n",
            "10 x 4 = 40\n",
            "10 x 5 = 50\n",
            "10 x 6 = 60\n",
            "10 x 7 = 70\n",
            "10 x 8 = 80\n",
            "10 x 9 = 90\n",
            "10 x 10 = 100\n"
          ]
        }
      ]
    },
    {
      "cell_type": "markdown",
      "source": [
        "8. Faça um programa que peça um número inteiro positivo n e mostre os n primeiros números da sequência de Fibonacci.\n"
      ],
      "metadata": {
        "id": "5CmPnnXOGxrv"
      }
    },
    {
      "cell_type": "code",
      "source": [
        "n1 = 0\n",
        "n2 = 1\n",
        "n = int(input('Digite um inteiro: '))\n",
        "\n",
        "if n <= 0:\n",
        "    print(\"Quantidade inválida (deveria ser > 0).\")\n",
        "else:\n",
        "    for i in range(n - 1):\n",
        "        if i == 0 or i == 1:\n",
        "            print(1, end=' ')\n",
        "        if i > 1:\n",
        "            n3 = n1 + n2\n",
        "            print(n3, end=' ')\n",
        "            n1, n2 = n2, n3\n",
        "    else:\n",
        "        print(n1 + n2)\n"
      ],
      "metadata": {
        "id": "NLQuz53yFLD9"
      },
      "execution_count": null,
      "outputs": []
    },
    {
      "cell_type": "markdown",
      "source": [
        "9. Faça um programa que peça um número inteiro não negativo n e mostre o valor de n fatorial (n!)."
      ],
      "metadata": {
        "id": "_68EdPiEHQNU"
      }
    },
    {
      "cell_type": "code",
      "source": [
        "n = int(input(\"Digite um número inteiro não negativo: \"))\n",
        "\n",
        "if n < 0:\n",
        "    print(\"Número inválido! Por favor, insira um número não negativo.\")\n",
        "else:\n",
        "    fatorial = 1\n",
        "    for i in range(1, n + 1):\n",
        "        fatorial *= i\n",
        "    print(f\"{n}! = {fatorial}\")"
      ],
      "metadata": {
        "id": "IsYu8PnyFLBR",
        "colab": {
          "base_uri": "https://localhost:8080/"
        },
        "outputId": "66d1de25-004b-476a-bf8b-1a58b7508e70"
      },
      "execution_count": null,
      "outputs": [
        {
          "output_type": "stream",
          "name": "stdout",
          "text": [
            "Digite um número inteiro não negativo: 10\n",
            "10! = 3628800\n"
          ]
        }
      ]
    },
    {
      "cell_type": "markdown",
      "source": [
        "10. Faça um programa que peça um número inteiro e determine se esse número é um número primo. (Um número é primo se ele for divisível somente por ele mesmo e por 1)."
      ],
      "metadata": {
        "id": "idPGZDK9HkLF"
      }
    },
    {
      "cell_type": "code",
      "source": [
        "n = int(input(\"Digite um número inteiro que te direi se esse número é primo ou não: \"))\n",
        "\n",
        "if n == 2 or n == 3:\n",
        "    print(f\"O numero {n} é um número primo\")\n",
        "elif  n % 2 == 0 or n % 3 == 0:\n",
        "    print(f\"O número {n} não é um número primo\")\n",
        "else:\n",
        "    print(f\"O numero {n} é um número primo\")"
      ],
      "metadata": {
        "id": "Uxo8UEb7FK-i",
        "colab": {
          "base_uri": "https://localhost:8080/"
        },
        "outputId": "aaaa3c11-3c02-4ffc-a25f-9c8a3426c222"
      },
      "execution_count": null,
      "outputs": [
        {
          "output_type": "stream",
          "name": "stdout",
          "text": [
            "Digite um número inteiro que te direi se esse número é primo ou não: 37\n",
            "O numero 37 é um número primo\n"
          ]
        }
      ]
    },
    {
      "cell_type": "markdown",
      "source": [
        "11. Faça um programa que peça dois números inteiros positivos e mostra o máximo divisor comum (MDC) e o mínimo múltiplo comum (MMC) desses números."
      ],
      "metadata": {
        "id": "LiN-wnyRMoOi"
      }
    },
    {
      "cell_type": "code",
      "source": [
        "m, n = 8, 14\n",
        "divisor = 2\n",
        "mmc = 1\n",
        "continuar = True\n",
        "\n",
        "print(m, n)\n",
        "\n",
        "while m != 1 or n != 1:\n",
        "    while continuar == true:\n",
        "        if m % divisor == 0:\n",
        "            m = m // divisor\n",
        "            teste_m = True\n"
      ],
      "metadata": {
        "id": "MPZDueOFFK8E"
      },
      "execution_count": null,
      "outputs": []
    },
    {
      "cell_type": "markdown",
      "source": [
        "12. Faça um programa que peça a razão e primeiro termo de uma PA (progressão aritmética). Peça um número inteiro positivo n e mostra os n primeiros termos dessa PA."
      ],
      "metadata": {
        "id": "U83IiC1VM6dc"
      }
    },
    {
      "cell_type": "code",
      "source": [
        "primeiro = int(input(\"Digite o primeiro termo da PA: \"))\n",
        "\n",
        "razao = int(input(\"Digite a razão da PA: \"))\n",
        "\n",
        "n = int(input(\"Digite a quantidade de termos (n > 0): \"))\n",
        "while n <= 0:\n",
        "    print(\"Erro: o número de termos deve ser positivo.\")\n",
        "    n = int(input(\"Digite a quantidade de termos (n > 0): \"))\n",
        "\n",
        "print(\"\\nOs\", n, \"primeiros termos da PA são:\")\n",
        "for i in range(n):\n",
        "    termo = primeiro + i * razao\n",
        "    print(termo)"
      ],
      "metadata": {
        "id": "E1lkmJ0nM6L3",
        "colab": {
          "base_uri": "https://localhost:8080/"
        },
        "outputId": "69b6c5ce-ae9e-4b12-a287-1ed9d118ca83"
      },
      "execution_count": null,
      "outputs": [
        {
          "output_type": "stream",
          "name": "stdout",
          "text": [
            "Digite o primeiro termo da PA: 10\n",
            "Digite a razão da PA: 5\n",
            "Digite a quantidade de termos (n > 0): 8\n",
            "\n",
            "Os 8 primeiros termos da PA são:\n",
            "10\n",
            "15\n",
            "20\n",
            "25\n",
            "30\n",
            "35\n",
            "40\n",
            "45\n"
          ]
        }
      ]
    },
    {
      "cell_type": "markdown",
      "source": [
        "13. Faça um programa que peça a razão e terceiro termo de uma PA (progressão aritmética). Peça um número inteiro positivo n (maior do que 3) e mostra os n primeiros termos dessa PA."
      ],
      "metadata": {
        "id": "aJH4EAojNlHq"
      }
    },
    {
      "cell_type": "code",
      "source": [
        "razao = int(input(\"Digite a razão da PA: \"))\n",
        "\n",
        "terceiro = int(input(\"Digite o terceiro termo da PA: \"))\n",
        "\n",
        "n = int(input(\"Digite a quantidade de termos (n > 3): \"))\n",
        "while n <= 3:\n",
        "    print(\"Erro: o número de termos deve ser maior que 3.\")\n",
        "    n = int(input(\"Digite a quantidade de termos (n > 3): \"))\n",
        "\n",
        "primeiro = terceiro - 2 * razao\n",
        "\n",
        "print(\"\\nOs\", n, \"primeiros termos da PA são:\")\n",
        "for i in range(n):\n",
        "    termo = primeiro + i * razao\n",
        "    print(termo)"
      ],
      "metadata": {
        "id": "lt_ClxbqNzlW",
        "colab": {
          "base_uri": "https://localhost:8080/"
        },
        "outputId": "28350fc4-80df-4719-998b-68407af4eec1"
      },
      "execution_count": null,
      "outputs": [
        {
          "output_type": "stream",
          "name": "stdout",
          "text": [
            "Digite a razão da PA: 5\n",
            "Digite o terceiro termo da PA: 30\n",
            "Digite a quantidade de termos (n > 3): 7\n",
            "\n",
            "Os 7 primeiros termos da PA são:\n",
            "20\n",
            "25\n",
            "30\n",
            "35\n",
            "40\n",
            "45\n",
            "50\n"
          ]
        }
      ]
    },
    {
      "cell_type": "markdown",
      "source": [
        "14. Faça um programa que peça a razão e quarto termo de uma PA (progressão aritmética). Peça um número inteiro positivo n e mostra a soma dos n primeiros termos dessa PA."
      ],
      "metadata": {
        "id": "EBeJ8-ufNxLU"
      }
    },
    {
      "cell_type": "code",
      "source": [
        "razao = int(input(\"Digite a razão da PA: \"))\n",
        "\n",
        "quarto = int(input(\"Digite o quarto termo da PA: \"))\n",
        "\n",
        "n = int(input(\"Digite a quantidade de termos (n > 0): \"))\n",
        "while n <= 0:\n",
        "    print(\"Erro: o número de termos deve ser maior que zero.\")\n",
        "    n = int(input(\"Digite a quantidade de termos (n > 0): \"))\n",
        "\n",
        "primeiro = quarto - 3 * razao\n",
        "\n",
        "ultimo = primeiro + (n - 1) * razao\n",
        "soma = n * (primeiro + ultimo) // 2\n",
        "\n",
        "print(\"\\nA soma dos\", n, \"primeiros termos da PA é:\", soma)"
      ],
      "metadata": {
        "id": "MN9jTh8rNoYw",
        "colab": {
          "base_uri": "https://localhost:8080/"
        },
        "outputId": "b20ad33f-a8be-4a79-8191-c7eada78de30"
      },
      "execution_count": null,
      "outputs": [
        {
          "output_type": "stream",
          "name": "stdout",
          "text": [
            "Digite a razão da PA: 5\n",
            "Digite o quarto termo da PA: 30\n",
            "Digite a quantidade de termos (n > 0): 8\n",
            "\n",
            "A soma dos 8 primeiros termos da PA é: 260\n"
          ]
        }
      ]
    },
    {
      "cell_type": "markdown",
      "source": [
        "15. Faça um programa que peça a razão e primeiro termo de uma PG (progressão geométrica). Peça um número inteiro positivo n e mostra os n primeiros termos dessa PG."
      ],
      "metadata": {
        "id": "e8XG0-muNc82"
      }
    },
    {
      "cell_type": "code",
      "source": [
        "primeiro = int(input(\"Digite o primeiro termo da PG: \"))\n",
        "\n",
        "razao = int(input(\"Digite a razão da PG: \"))\n",
        "\n",
        "n = int(input(\"Digite a quantidade de termos (n > 0): \"))\n",
        "while n <= 0:\n",
        "    print(\"Erro: o número de termos deve ser maior que zero.\")\n",
        "    n = int(input(\"Digite a quantidade de termos (n > 0): \"))\n",
        "\n",
        "print(\"\\nOs\", n, \"primeiros termos da PG são:\")\n",
        "for i in range(n):\n",
        "    termo = primeiro * (razao ** i)\n",
        "    print(termo)"
      ],
      "metadata": {
        "id": "IWuwt1CANoVT",
        "colab": {
          "base_uri": "https://localhost:8080/"
        },
        "outputId": "28ff6dd0-6635-42c4-9c98-e1f8e06ab372"
      },
      "execution_count": null,
      "outputs": [
        {
          "output_type": "stream",
          "name": "stdout",
          "text": [
            "Digite o primeiro termo da PG: 10\n",
            "Digite a razão da PG: 5\n",
            "Digite a quantidade de termos (n > 0): 8\n",
            "\n",
            "Os 8 primeiros termos da PG são:\n",
            "10\n",
            "50\n",
            "250\n",
            "1250\n",
            "6250\n",
            "31250\n",
            "156250\n",
            "781250\n"
          ]
        }
      ]
    },
    {
      "cell_type": "markdown",
      "source": [
        "16. Faça um programa que peça a razão e terceiro termo de uma PG (progressão geométrica). Peça um número inteiro positivo n (maior do que 3) e mostra os n primeiros termos e a soma dos n primeiros termos dessa PG."
      ],
      "metadata": {
        "id": "OIGtwqcDOFlS"
      }
    },
    {
      "cell_type": "code",
      "source": [
        "razao = int(input(\"Digite a razão da PG: \"))\n",
        "\n",
        "terceiro = int(input(\"Digite o terceiro termo da PG: \"))\n",
        "\n",
        "n = int(input(\"Digite a quantidade de termos (n > 3): \"))\n",
        "while n <= 3:\n",
        "    print(\"Erro: o número de termos deve ser maior que 3.\")\n",
        "    n = int(input(\"Digite a quantidade de termos (n > 3): \"))\n",
        "\n",
        "if razao == 0:\n",
        "    primeiro = 0\n",
        "else:\n",
        "    primeiro = terceiro // (razao * razao)\n",
        "\n",
        "print(\"\\nOs\", n, \"primeiros termos da PG são:\")\n",
        "for i in range(n):\n",
        "    termo = primeiro * (razao ** i)\n",
        "    print(termo)\n",
        "\n",
        "if razao == 1:\n",
        "    soma = n * primeiro\n",
        "else:\n",
        "    soma = primeiro * ((razao ** n - 1) // (razao - 1))\n",
        "\n",
        "print(\"\\nSoma dos\", n, \"primeiros termos da PG:\", soma)"
      ],
      "metadata": {
        "id": "AdtltL0oNoR1",
        "colab": {
          "base_uri": "https://localhost:8080/"
        },
        "outputId": "5dd376fb-a1e0-4950-8940-a2a7a4004174"
      },
      "execution_count": null,
      "outputs": [
        {
          "output_type": "stream",
          "name": "stdout",
          "text": [
            "Digite a razão da PG: 5\n",
            "Digite o terceiro termo da PG: 25\n",
            "Digite a quantidade de termos (n > 3): 8\n",
            "\n",
            "Os 8 primeiros termos da PG são:\n",
            "1\n",
            "5\n",
            "25\n",
            "125\n",
            "625\n",
            "3125\n",
            "15625\n",
            "78125\n",
            "\n",
            "Soma dos 8 primeiros termos da PG: 97656\n"
          ]
        }
      ]
    },
    {
      "cell_type": "markdown",
      "source": [
        "17. Faça um programa que peça o valor presente (capital inicial), a taxa de juros mensais (i) e o período em meses(n). Então, o programa deve calcular e mostrar a evolução do valor futuro (montante) a cada um dos n meses."
      ],
      "metadata": {
        "id": "SSZ1RDCZOE0U"
      }
    },
    {
      "cell_type": "code",
      "source": [
        "v0 = float(input(\"Digite o capital inicial para o investimento: \"))\n",
        "print(\"Você terá um lucro de 10% todos os mêses\")\n",
        "\n",
        "juros = (10/100) * v0\n",
        "meses = 12\n",
        "\n",
        "for i in range(1, meses + 1):\n",
        "    valor = v0 + (juros * i )\n",
        "    print(f\"No {i}° mês seu saldo será de R${valor}\")\n"
      ],
      "metadata": {
        "id": "aSbMohoPPVTQ",
        "colab": {
          "base_uri": "https://localhost:8080/"
        },
        "outputId": "39c57419-14c4-4264-dd84-96ada90a7f26"
      },
      "execution_count": null,
      "outputs": [
        {
          "output_type": "stream",
          "name": "stdout",
          "text": [
            "Digite o capital inicial para o investimento: 1000\n",
            "Você terá um lucro de 10% todos os mêses\n",
            "No 1° mês seu saldo será de R$1100.0\n",
            "No 2° mês seu saldo será de R$1200.0\n",
            "No 3° mês seu saldo será de R$1300.0\n",
            "No 4° mês seu saldo será de R$1400.0\n",
            "No 5° mês seu saldo será de R$1500.0\n",
            "No 6° mês seu saldo será de R$1600.0\n",
            "No 7° mês seu saldo será de R$1700.0\n",
            "No 8° mês seu saldo será de R$1800.0\n",
            "No 9° mês seu saldo será de R$1900.0\n",
            "No 10° mês seu saldo será de R$2000.0\n",
            "No 11° mês seu saldo será de R$2100.0\n",
            "No 12° mês seu saldo será de R$2200.0\n"
          ]
        }
      ]
    },
    {
      "cell_type": "markdown",
      "source": [
        "18. Faça um programa que pede o valor que será depositado todos o meses, o valor da taxa de juros mensal e o total de meses (n) . O programa deverá mostrar na tela o valor do montante e o valor dos juros em cada um dos n meses."
      ],
      "metadata": {
        "id": "Ru07Ip92PQaj"
      }
    },
    {
      "cell_type": "code",
      "source": [
        "deposito = float(input(\"Digite o valor do depósito mensal: \"))\n",
        "while deposito <= 0:\n",
        "    print(\"Erro: o valor do depósito deve ser maior que zero.\")\n",
        "    deposito = float(input(\"Digite o valor do depósito mensal: \"))\n",
        "\n",
        "taxa = float(input(\"Digite a taxa de juros mensal (%): \"))\n",
        "while taxa < 0:\n",
        "    print(\"Erro: a taxa não pode ser negativa.\")\n",
        "    taxa = float(input(\"Digite a taxa de juros mensal (%): \"))\n",
        "\n",
        "n = int(input(\"Digite o número total de meses: \"))\n",
        "while n <= 0:\n",
        "    print(\"Erro: o número de meses deve ser maior que zero.\")\n",
        "    n = int(input(\"Digite o número total de meses: \"))\n",
        "\n",
        "juros_mensal = taxa / 100\n",
        "\n",
        "saldo = 0.0\n",
        "\n",
        "print(\"\\nMês\\tMontante\\tJuros do mês\")\n",
        "for mes in range(1, n + 1):\n",
        "    saldo_anterior = saldo\n",
        "    saldo += deposito\n",
        "    saldo = saldo * (1 + juros_mensal)\n",
        "    juros = saldo - saldo_anterior - deposito\n",
        "\n",
        "    montante = int(saldo * 100) / 100\n",
        "    juros_mes = int(juros * 100) / 100\n",
        "\n",
        "    print(f\"{mes},   R${montante},   R${juros_mes}\")"
      ],
      "metadata": {
        "id": "PimDkbIHOsNb",
        "colab": {
          "base_uri": "https://localhost:8080/"
        },
        "outputId": "ac54356e-f0fe-48b6-93b4-75897999d117"
      },
      "execution_count": null,
      "outputs": [
        {
          "output_type": "stream",
          "name": "stdout",
          "text": [
            "Digite o valor do depósito mensal: 100\n",
            "Digite a taxa de juros mensal (%): 10\n",
            "Digite o número total de meses: 12\n",
            "\n",
            "Mês\tMontante\tJuros do mês\n",
            "1,   R$110.0,   R$10.0\n",
            "2,   R$231.0,   R$21.0\n",
            "3,   R$364.1,   R$33.09\n",
            "4,   R$510.51,   R$46.41\n",
            "5,   R$671.56,   R$61.05\n",
            "6,   R$848.71,   R$77.15\n",
            "7,   R$1043.58,   R$94.87\n",
            "8,   R$1257.94,   R$114.35\n",
            "9,   R$1493.74,   R$135.79\n",
            "10,   R$1753.11,   R$159.37\n",
            "11,   R$2038.42,   R$185.31\n",
            "12,   R$2352.27,   R$213.84\n"
          ]
        }
      ]
    },
    {
      "cell_type": "markdown",
      "source": [
        "19. Faça um programa que pede o número n de provas e as n notas e calcula a média e o desvio padrão dessas notas."
      ],
      "metadata": {
        "id": "VwM0pkrrGmrp"
      }
    },
    {
      "cell_type": "code",
      "source": [
        "n = int(input(\"Digite o número de provas: \"))\n",
        "while n <= 0:\n",
        "    print(\"Erro: o número de provas deve ser maior que zero.\")\n",
        "    n = int(input(\"Digite o número de provas: \"))\n",
        "\n",
        "notas = []\n",
        "for i in range(n):\n",
        "    nota = float(input(f\"Digite a nota da prova {i + 1}: \"))\n",
        "    notas.append(nota)\n",
        "\n",
        "soma_notas = 0\n",
        "for nota in notas:\n",
        "    soma_notas += nota\n",
        "\n",
        "media = soma_notas / n\n",
        "\n",
        "soma_dos_quadrados = 0\n",
        "for nota in notas:\n",
        "    soma_dos_quadrados += (nota - media) ** 2\n",
        "\n",
        "desvio_padrao = (soma_dos_quadrados / n) ** 0.5\n",
        "\n",
        "print(\"\\nMédia das notas:\", media)\n",
        "print(\"Desvio padrão das notas:\", desvio_padrao)"
      ],
      "metadata": {
        "id": "SNU2-aUGM6IR",
        "colab": {
          "base_uri": "https://localhost:8080/"
        },
        "outputId": "65fea8eb-a8d8-465f-a781-b72274285185"
      },
      "execution_count": null,
      "outputs": [
        {
          "output_type": "stream",
          "name": "stdout",
          "text": [
            "Digite o número de provas: 20\n",
            "Digite a nota da prova 1: 10\n",
            "Digite a nota da prova 2: 5\n",
            "Digite a nota da prova 3: 6\n",
            "Digite a nota da prova 4: 8\n",
            "Digite a nota da prova 5: 9\n",
            "Digite a nota da prova 6: 3\n",
            "Digite a nota da prova 7: 3\n",
            "Digite a nota da prova 8: 3\n",
            "Digite a nota da prova 9: 3\n",
            "Digite a nota da prova 10: 3\n",
            "Digite a nota da prova 11: 3\n",
            "Digite a nota da prova 12: 3\n",
            "Digite a nota da prova 13: 3\n",
            "Digite a nota da prova 14: 10\n",
            "Digite a nota da prova 15: 10\n",
            "Digite a nota da prova 16: 10\n",
            "Digite a nota da prova 17: 10\n",
            "Digite a nota da prova 18: 10\n",
            "Digite a nota da prova 19: 10\n",
            "Digite a nota da prova 20: 10\n",
            "\n",
            "Média das notas: 6.6\n",
            "Desvio padrão das notas: 3.215587038162705\n"
          ]
        }
      ]
    },
    {
      "cell_type": "markdown",
      "source": [
        "20. Faça um programa que peça um número inteiro positivo e mostra esse número no sistema binário."
      ],
      "metadata": {
        "id": "vi2enrhTJYLc"
      }
    },
    {
      "cell_type": "code",
      "source": [
        "n = int(input(\"Digite um número inteiro positivo: \"))\n",
        "while n <= 0:\n",
        "    print(\"Erro: o número deve ser positivo e maior que zero.\")\n",
        "    n = int(input(\"Digite um número inteiro positivo: \"))\n",
        "\n",
        "binario = \"\"\n",
        "while n > 0:\n",
        "    binario = str(n % 2) + binario\n",
        "    n = n // 2\n",
        "\n",
        "print(\"O número no sistema binário é:\", binario)"
      ],
      "metadata": {
        "id": "p27r_CSPM6FW",
        "colab": {
          "base_uri": "https://localhost:8080/"
        },
        "outputId": "1c5bb752-f5a0-43d6-8fe6-7bab2e429ce9"
      },
      "execution_count": null,
      "outputs": [
        {
          "output_type": "stream",
          "name": "stdout",
          "text": [
            "Digite um número inteiro positivo: 10\n",
            "O número no sistema binário é: 1010\n"
          ]
        }
      ]
    },
    {
      "cell_type": "code",
      "source": [],
      "metadata": {
        "id": "esbcSv8uM6CI"
      },
      "execution_count": null,
      "outputs": []
    },
    {
      "cell_type": "code",
      "source": [],
      "metadata": {
        "id": "cH8TN_sbFK5U"
      },
      "execution_count": null,
      "outputs": []
    },
    {
      "cell_type": "code",
      "source": [],
      "metadata": {
        "id": "RRZDeToTFK2Y"
      },
      "execution_count": null,
      "outputs": []
    },
    {
      "cell_type": "code",
      "source": [],
      "metadata": {
        "id": "nuMTnHU1FKzU"
      },
      "execution_count": null,
      "outputs": []
    },
    {
      "cell_type": "code",
      "source": [],
      "metadata": {
        "id": "s0hUDaGiFKwb"
      },
      "execution_count": null,
      "outputs": []
    },
    {
      "cell_type": "code",
      "source": [],
      "metadata": {
        "id": "I8s7JjiCFKtR"
      },
      "execution_count": null,
      "outputs": []
    },
    {
      "cell_type": "code",
      "source": [],
      "metadata": {
        "id": "EUJtq8y9FKTU"
      },
      "execution_count": null,
      "outputs": []
    },
    {
      "cell_type": "code",
      "source": [],
      "metadata": {
        "id": "MSN-A2kx_eWB"
      },
      "execution_count": null,
      "outputs": []
    },
    {
      "cell_type": "code",
      "source": [],
      "metadata": {
        "id": "DnZLBgOD_eT7"
      },
      "execution_count": null,
      "outputs": []
    }
  ]
}