{
  "nbformat": 4,
  "nbformat_minor": 0,
  "metadata": {
    "colab": {
      "provenance": [],
      "include_colab_link": true
    },
    "kernelspec": {
      "name": "python3",
      "display_name": "Python 3"
    },
    "language_info": {
      "name": "python"
    }
  },
  "cells": [
    {
      "cell_type": "markdown",
      "metadata": {
        "id": "view-in-github",
        "colab_type": "text"
      },
      "source": [
        "<a href=\"https://colab.research.google.com/github/Davi-Alves-Martins/interface01/blob/master/Lista_1.ipynb\" target=\"_parent\"><img src=\"https://colab.research.google.com/assets/colab-badge.svg\" alt=\"Open In Colab\"/></a>"
      ]
    },
    {
      "cell_type": "code",
      "execution_count": null,
      "metadata": {
        "id": "9MYUUJi0Vj7C"
      },
      "outputs": [],
      "source": []
    },
    {
      "cell_type": "markdown",
      "source": [
        "### Exercícios (utilize apenas conteúdos vistos em aula)\n",
        "\n",
        "1. Faça um programa mostre o seu primeiro nome na tela.\n",
        "\n",
        "\n",
        "2. Faça um programa que pede o primeiro nome do usuário e um sobrenome e mostra os dois nomes digitados na tela.\n",
        "\n",
        "3. Faça um programa que mostra um X bem grande na tela, utilizando o print (um ou mais vezes). Obs.: esse X deverá ter, pelo menos altura de 7 caracteres. Desafio: fazer essa tarefa em um único print.\n",
        "\n",
        "4. Faça um programa que pede o dia e mês de aniversário e diz quantos dias faltam para o aniversário, quantos dias se passaram do aniversário ou se hoje é o aniversário do usuário. (obs.: não utilize bibliotecas)\n",
        "\n",
        "5. Sua tarefa é criar um programa em Python que pede o preço original de um produto e dá 20% de desconto.\n",
        "\n",
        "    Você deve mostrar uma tabela contendo:    \n",
        "a. Preço original do produto.  \n",
        "b. Valor do desconto em R\\$ (tipo 'Você ganho R$ xx,xx de desconto').  \n",
        "c. Valor do produto com o desconto.\n",
        "\n",
        "6. Generalize o problema anterior, perguntando a porcentagem de desconto e mostrando os mesmos dados acima.\n",
        "\n",
        "7. Faça um programa que peça 3 valores e calcula sua média aritmética simples, mostrando esse resultado na tela.\n",
        "\n",
        "8. Faça um programa que peça 4 valores positivos e calcula:  \n",
        "    a. A média aritmética simples.  \n",
        "    b. A média geométrica.  \n",
        "    c. A média harmônica\n",
        "\n",
        "9. Faça um programa que peça 4 números reais e calcula:  \n",
        "    a. A média aritmética simples.  \n",
        "    b. A variância desses dados.  \n",
        "    c. O desvio padrão desses dados.\n",
        "\n",
        "\n",
        "10. Faça um programa que, dados 3 números inteiros, mostre na tela o maior deles.\n",
        "\n",
        "11. Faça um programa que, dados 3 números inteiros, mostre na tela esses números em ordem crescente.\n",
        "\n",
        "\n",
        "\n",
        "12. Faça um programa que, dados 3 strings, mostra essas strings em ordem alfabética.\n",
        "\n",
        "\n",
        "13. Faça um programa que peça a informação se o usuário é homem ou mulher, o peso, a altura e a idade e mostre na tela o TMB em calorias.   \n",
        "A Taxa Metabólica Basal (TMB) é a quantidade mínima de energia que o corpo precisa para manter as funções vitais, como respiração, circulação e temperatura corporal, em repouso. A TMB representa cerca de 60% a 70% do gasto energético total diário de uma pessoa e varia de acordo com o sexo, a idade, o peso e a altura.\n",
        "\n",
        "    Para calcular a TMB manualmente, você deve usar as seguintes fórmulas da equação de Harris-Benedict:\n",
        "\n",
        "    Para homens: TMB = 66,47 + (13,75 x peso em kg) + (5,003 x altura em cm) - (6,755 x idade em anos)\n",
        "    \n",
        "    Para mulheres: TMB = 655,09 + (9,563 x peso em kg) + (1,85 x altura em cm) - (4,676 x idade em anos)  \n",
        "     \n",
        "\n",
        "14. Faça um programa que peça um número inteiro para o usuário e mostra a tabuada desse número.\n",
        "\n",
        "    "
      ],
      "metadata": {
        "id": "LM-BU28PWg9K"
      }
    },
    {
      "cell_type": "code",
      "source": [],
      "metadata": {
        "id": "FwULjfRxGXFx"
      },
      "execution_count": null,
      "outputs": []
    },
    {
      "cell_type": "markdown",
      "source": [
        "\n",
        "1. Faça um programa mostre o seu primeiro nome na tela.\n"
      ],
      "metadata": {
        "id": "OXRVfDpmShcl"
      }
    },
    {
      "cell_type": "code",
      "source": [
        "print(\"Davi\")"
      ],
      "metadata": {
        "colab": {
          "base_uri": "https://localhost:8080/"
        },
        "id": "6fs52BQFseZ8",
        "outputId": "b1aea60f-4a3c-4f1e-e575-d3106290b7bf"
      },
      "execution_count": null,
      "outputs": [
        {
          "output_type": "stream",
          "name": "stdout",
          "text": [
            "Alexandre\n",
            "Alexandre\n"
          ]
        }
      ]
    },
    {
      "cell_type": "markdown",
      "source": [
        "2. Faça um programa que pede o primeiro nome do usuário e um sobrenome e mostra os dois nomes digitados na tela."
      ],
      "metadata": {
        "id": "x8jlVm3VtTpN"
      }
    },
    {
      "cell_type": "code",
      "source": [
        "print('Digite seu nome: ')\n",
        "\n",
        "nome = str(input())\n",
        "\n",
        "print('Digite seu sobrenome:')\n",
        "sobrenome = str(input())\n",
        "\n",
        "print(nome + \" \" + sobrenome)\n"
      ],
      "metadata": {
        "colab": {
          "base_uri": "https://localhost:8080/"
        },
        "id": "n1UbCzXTseX0",
        "outputId": "6a7041e5-f749-4a80-e098-629e5570b8c5"
      },
      "execution_count": null,
      "outputs": [
        {
          "output_type": "stream",
          "name": "stdout",
          "text": [
            "Digite primeiro seu nome: aa\n",
            "Digite um sobrenome seu: aa\n",
            "aa aa\n",
            "aa aa 0.3333333333333333\n"
          ]
        }
      ]
    },
    {
      "cell_type": "markdown",
      "source": [
        "3. Faça um programa que mostra um X bem grande na tela, utilizando o print (um ou mais vezes). Obs.: esse X deverá ter, pelo menos altura de 7 caracteres. Desafio: fazer essa tarefa em um único print."
      ],
      "metadata": {
        "id": "Pb6hGsUVvUqN"
      }
    },
    {
      "cell_type": "code",
      "source": [
        "print('o     o')\n",
        "print(' o   o')\n",
        "print('  o o')\n",
        "print('   o')\n",
        "print('  o o')\n",
        "print(' o   o')\n",
        "print('o     o')"
      ],
      "metadata": {
        "colab": {
          "base_uri": "https://localhost:8080/"
        },
        "id": "5BUa_TFtu719",
        "outputId": "e42b5f6f-96a1-4ae7-8dc3-bc049648f371"
      },
      "execution_count": null,
      "outputs": [
        {
          "output_type": "stream",
          "name": "stdout",
          "text": [
            "o     o\n",
            " o   o\n",
            "  o o\n",
            "   o\n",
            "  o o\n",
            " o   o\n",
            "o     o\n"
          ]
        }
      ]
    },
    {
      "cell_type": "markdown",
      "source": [
        "4. Faça um programa que pede o dia e mês de aniversário e diz quantos dias faltam para o aniversário, quantos dias se passaram do aniversário ou se hoje é o aniversário do usuário. (obs.: não utilize bibliotecas)"
      ],
      "metadata": {
        "id": "rijFfvulxYnO"
      }
    },
    {
      "cell_type": "code",
      "source": [
        "dia = int(input('Digite o dia de seu aniversário: '))\n",
        "mes = int(input('Digite o mês de seu aniversário: '))\n",
        "m = \"m\"\n",
        "s = \"s\"\n",
        "if mes == 4:\n",
        "    diff_dias = dia - 2\n",
        "    if diff_dias == 1:\n",
        "       m = ''\n",
        "       s = ''\n",
        "\n",
        "    if diff_dias == 0:\n",
        "         print(\"Feliz aniversário!\")\n",
        "    elif diff_dias > 0:\n",
        "         print(f\"Falta{m} {diff_dias} dia{s} para seu aniversário!\")\n",
        "    else:\n",
        "         print(f\"Passaram {-1 * diff_dias} dias de seu aniversário!\")\n",
        "\n",
        "elif mes == 5:\n",
        "    dias_faltantes = 28 + dia\n",
        "    print(f'Faltam {dias_faltantes} dias para o seu aniversário!')\n",
        "\n",
        "elif mes == 6:\n",
        "    dias_faltantes = 59 + dia\n",
        "    print(f'Faltam {dias_faltantes} dias para o seu aniversário')"
      ],
      "metadata": {
        "colab": {
          "base_uri": "https://localhost:8080/"
        },
        "id": "b2gn_rtqwF59",
        "outputId": "3dec7c73-3fe1-48ed-b4ae-055f3c0387a8"
      },
      "execution_count": null,
      "outputs": [
        {
          "output_type": "stream",
          "name": "stdout",
          "text": [
            "Digite o dia de seu aniversário: 30\n",
            "Digite o mês de seu aniversário: 1\n",
            "Passaram 62 dias de seu aniversário!\n"
          ]
        }
      ]
    },
    {
      "cell_type": "markdown",
      "source": [
        "5 - Sua tarefa é criar um programa em Python que pede o preço original de um produto e dá 20% de desconto.\n",
        "\n",
        "Você deve mostrar uma tabela contendo:\n",
        "a. Preço original do produto.\n",
        "b. Valor do desconto em R$ (tipo 'Você ganho R$ xx,xx de desconto').\n",
        "c. Valor do produto com o desconto."
      ],
      "metadata": {
        "id": "WeTnWBatrCfr"
      }
    },
    {
      "cell_type": "code",
      "source": [
        "\n",
        "preco = float(input(\"Digite o preço do produto: \"))\n",
        "porcentagem = 20\n",
        "resultado = (porcentagem / 100) * preco\n",
        "preco_final = preco - resultado\n",
        "\n",
        "print(f\"O preço do produto é R${preco} e o desconto foi de {porcentagem}. O Produto está custando R${preco_final}\")"
      ],
      "metadata": {
        "id": "jydxN6ydse_8",
        "colab": {
          "base_uri": "https://localhost:8080/"
        },
        "outputId": "f700c6d2-5af6-414e-8170-89fd4c20f98e"
      },
      "execution_count": null,
      "outputs": [
        {
          "output_type": "stream",
          "name": "stdout",
          "text": [
            "Digite o preço do produto: 200\n",
            "O preço do produto é R$200.0 e o desconto foi de 20. O Produto está custando R$160.0\n"
          ]
        }
      ]
    },
    {
      "cell_type": "markdown",
      "source": [
        "6 - Generalize o problema anterior, perguntando a porcentagem de desconto e mostrando os mesmos dados acima."
      ],
      "metadata": {
        "id": "yJSQOyYotCA1"
      }
    },
    {
      "cell_type": "code",
      "source": [
        "preco = float(input(\"Digite o preço do produto: \"))\n",
        "porcentagem = float(input(\"Digite a porcentagem de desconto que deseja: \"))\n",
        "resultado = (porcentagem / 100) * preco\n",
        "preco_final = preco - resultado\n",
        "\n",
        "print(f\"O preço do produto é R${preco} e o desconto foi de {porcentagem}. O Produto está custando R${preco_final}\")"
      ],
      "metadata": {
        "id": "Uz4LmzkLse81",
        "colab": {
          "base_uri": "https://localhost:8080/"
        },
        "outputId": "fbae8512-2089-4304-d1cc-5ec3d94c1d34"
      },
      "execution_count": null,
      "outputs": [
        {
          "output_type": "stream",
          "name": "stdout",
          "text": [
            "Digite o preço do produto: 200\n",
            "Digite a porcentagem de desconto que deseja: 20\n",
            "O preço do produto é R$200.0 e o desconto foi de 20.0. O Produto está custando R$160.0\n"
          ]
        }
      ]
    },
    {
      "cell_type": "markdown",
      "source": [
        "7 - Faça um programa que peça 3 valores e calcula sua média aritmética simples, mostrando esse resultado na tela."
      ],
      "metadata": {
        "id": "Q5Xox64KzwSk"
      }
    },
    {
      "cell_type": "code",
      "source": [
        "num1 = int(input('Digite o 1° número inteiro: '))\n",
        "num2 = int(input(\"Digite o 2° número inteiro: \"))\n",
        "num3 = int(input('Digite o 3° número inteiro: '))\n",
        "\n",
        "media = (num1 + num2 + num3) / 3\n",
        "\n",
        "print(f\"A média dos números digitados é: {media}\")"
      ],
      "metadata": {
        "id": "RBL3FeiLse58",
        "colab": {
          "base_uri": "https://localhost:8080/"
        },
        "outputId": "b9da2414-6f1a-40aa-9e33-c42e8d043e88"
      },
      "execution_count": null,
      "outputs": [
        {
          "output_type": "stream",
          "name": "stdout",
          "text": [
            "Digite o 1° número inteiro: 2\n",
            "Digite o 2° número inteiro: 3\n",
            "Digite o 3° número inteiro: 4\n",
            "A média dos números digitados é: 3.0\n"
          ]
        }
      ]
    },
    {
      "cell_type": "markdown",
      "source": [
        "8 - Faça um programa que peça 4 valores positivos e calcula:\n",
        "a. A média aritmética simples.\n",
        "b. A média geométrica.\n",
        "c. A média harmônica"
      ],
      "metadata": {
        "id": "dlAiIFck06gW"
      }
    },
    {
      "cell_type": "code",
      "source": [
        "num1 = int(input('Digite o 1° número inteiro: '))\n",
        "num2 = int(input(\"Digite o 2° número inteiro: \"))\n",
        "num3 = int(input('Digite o 3° número inteiro: '))\n",
        "num4 = int(input(\"Digite o 4° número inteiro: \"))\n",
        "\n",
        "media = (num1 + num2 + num3 + num4) / 4\n",
        "geometrica1 = (num1 * num2 * num3 * num4)\n",
        "geometrica = geometrica1 ** (1/4)\n",
        "harmonica = 4 / (1/num1 + 1/num2 + 1/num3 + 1/num4)\n",
        "\n",
        "print(f\"A média aritmética dos números digitados é: {media}\")\n",
        "print('-----------------------')\n",
        "print(f\"A média geométrica dos números digitados é: {geometrica}\")\n",
        "print('-----------------------')\n",
        "print(f'A média harmônica dos números digitados é: {harmonica}')"
      ],
      "metadata": {
        "id": "-qC0rWKmse3c",
        "colab": {
          "base_uri": "https://localhost:8080/"
        },
        "outputId": "03a4f455-53e2-480f-8f21-6aeb4d974ce4"
      },
      "execution_count": null,
      "outputs": [
        {
          "output_type": "stream",
          "name": "stdout",
          "text": [
            "Digite o 1° número inteiro: 2\n",
            "Digite o 2° número inteiro: 3\n",
            "Digite o 3° número inteiro: 4\n",
            "Digite o 4° número inteiro: 5\n",
            "A média aritmética dos números digitados é: 3.5\n",
            "-----------------------\n",
            "A média geométrica dos números digitados é: 3.309750919646873\n",
            "-----------------------\n",
            "A média harmônica dos números digitados é: 3.116883116883117\n"
          ]
        }
      ]
    },
    {
      "cell_type": "markdown",
      "source": [
        "9 - Faça um programa que peça 4 números reais e calcula:\n",
        "a. A média aritmética simples.\n",
        "b. A variância desses dados.\n",
        "c. O desvio padrão desses dados."
      ],
      "metadata": {
        "id": "UaAJeXgv6IM5"
      }
    },
    {
      "cell_type": "code",
      "source": [
        "num1 = int(input('Digite o 1° número inteiro: '))\n",
        "num2 = int(input(\"Digite o 2° número inteiro: \"))\n",
        "num3 = int(input('Digite o 3° número inteiro: '))\n",
        "num4 = int(input(\"Digite o 4° número inteiro: \"))\n",
        "\n",
        "media = (num1 + num2 + num3 + num4) / 4\n",
        "num1media = num1 - media\n",
        "num2media = num2 - media\n",
        "num3media = num3 - media\n",
        "num4media = num4 - media\n",
        "varianca = ((num1media * num1media) + (num2media * num2media) + (num3media * num3media) + (num4media * num4media)) / 4\n",
        "desvio = varianca ** (1/2)\n",
        "\n",
        "print(f\"A média aritmética dos números digitados é: {media}\")\n",
        "print(f'A variança dos números digitados é: {varianca}')\n",
        "print(f'O desvio padrão é: {desvio}')"
      ],
      "metadata": {
        "id": "TjEN37Ztse0U",
        "colab": {
          "base_uri": "https://localhost:8080/"
        },
        "outputId": "a498a76d-1377-433f-bdf2-53c14e619f8e"
      },
      "execution_count": null,
      "outputs": [
        {
          "output_type": "stream",
          "name": "stdout",
          "text": [
            "Digite o 1° número inteiro: 3\n",
            "Digite o 2° número inteiro: 4\n",
            "Digite o 3° número inteiro: 5\n",
            "Digite o 4° número inteiro: 6\n",
            "A média aritmética dos números digitados é: 4.5\n",
            "A variança dos números digitados é: 1.25\n",
            "O desvio padrão é: 1.118033988749895\n"
          ]
        }
      ]
    },
    {
      "cell_type": "markdown",
      "source": [
        "10 - Faça um programa que, dados 3 números inteiros, mostre na tela o maior deles."
      ],
      "metadata": {
        "id": "fvdR8kYP-6lh"
      }
    },
    {
      "cell_type": "code",
      "source": [
        "num1 = int(input('Digite o 1° número: '))\n",
        "num2 = int(input('Digite o 2° número: '))\n",
        "num3 = int(input('Digite o 3° número: '))\n",
        "\n",
        "if num1 > num2 and num1 > num3:\n",
        "    print(f'O maior número é o número {num1}')\n",
        "\n",
        "elif num2 > num1 and num2 > num3:\n",
        "    print(f'O maior número é o número {num2}')\n",
        "\n",
        "elif num3 > num1 and num3 > num2:\n",
        "    print(f'O maior número é o número {num3}')\n",
        "\n",
        "else:\n",
        "    print(\"Você digitou 3 números iguais!\")"
      ],
      "metadata": {
        "colab": {
          "base_uri": "https://localhost:8080/"
        },
        "id": "iq0g4AZI6MXp",
        "outputId": "ca460aeb-2131-4ec7-b434-5104ec5ed055"
      },
      "execution_count": null,
      "outputs": [
        {
          "output_type": "stream",
          "name": "stdout",
          "text": [
            "Digite o 1° número: 4\n",
            "Digite o 2° número: 5\n",
            "Digite o 3° número: 3\n",
            "O maior número é o número 5\n"
          ]
        }
      ]
    },
    {
      "cell_type": "markdown",
      "source": [
        "11 - Faça um programa que, dados 3 números inteiros, mostre na tela esses números em ordem crescente."
      ],
      "metadata": {
        "id": "o-GyTvzJAdpY"
      }
    },
    {
      "cell_type": "code",
      "source": [
        "num1 = int(input('Digite o 1° número: '))\n",
        "num2 = int(input('Digite o 2° número: '))\n",
        "num3 = int(input('Digite o 3° número: '))\n",
        "\n",
        "if num3 > num2 and num3 > num1 and num2 > num1:\n",
        "    print(f'{num1, num2, num3}')\n",
        "\n",
        "elif num2 > num3 and num2 > num1 and num3 > num1:\n",
        "    print(f'{num1, num3, num2}')\n",
        "\n",
        "elif num1 > num2 and num1 > num3 and num3 > num2:\n",
        "    print(f'{num2, num3, num1}')\n",
        "\n",
        "elif num3 > num2 and num3 > num1 and num2 < num1:\n",
        "    print(f'{num2, num1, num3}')\n",
        "\n",
        "elif num2 > num3 and num2 > num1 and num3 < num1:\n",
        "    print(f'{num3, num1, num2}')\n",
        "\n",
        "elif num1 > num2 and num1 > num3 and num3 < num2:\n",
        "    print(f'{num3, num2, num1}')"
      ],
      "metadata": {
        "colab": {
          "base_uri": "https://localhost:8080/"
        },
        "id": "Q1_8ew5W6MQZ",
        "outputId": "a28a98f7-572b-4504-f245-9d2d7ab520e3"
      },
      "execution_count": null,
      "outputs": [
        {
          "output_type": "stream",
          "name": "stdout",
          "text": [
            "Digite o 1° número: 2\n",
            "Digite o 2° número: 1\n",
            "Digite o 3° número: 3\n",
            "(1, 2, 3)\n"
          ]
        }
      ]
    },
    {
      "cell_type": "markdown",
      "source": [
        "12 - Faça um programa que, dados 3 strings, mostra essas strings em ordem alfabética."
      ],
      "metadata": {
        "id": "szAQbvOhCUTE"
      }
    },
    {
      "cell_type": "code",
      "source": [
        "text1 = str(input('Digite uma letra do alfabeto: '))\n",
        "text2 = str(input('Digite outra letra do alfabeto: '))\n",
        "text3 = str(input('Digite mais uma letra do alfabeto: '))\n",
        "\n",
        "if text1 <= text2 and text1 <= text3:\n",
        "    if text2 <= text3:\n",
        "        print('Strings em ordem alfabetica:')\n",
        "        print(text1)\n",
        "        print(text2)\n",
        "        print(text3)\n",
        "    else:\n",
        "        print('Strings em ordem alfabetica:')\n",
        "        print(text1)\n",
        "        print(text3)\n",
        "        print(text2)\n",
        "\n",
        "elif text2 <= text1 and text2 <= text3:\n",
        "    if text1 <= text3:\n",
        "        print('Strings em ordem alfabetica:')\n",
        "        print(text2)\n",
        "        print(text1)\n",
        "        print(text3)\n",
        "    else:\n",
        "        print('Strings em ordem alfabetica:')\n",
        "        print(text2)\n",
        "        print(text3)\n",
        "        print(text1)\n",
        "\n",
        "else:\n",
        "    if text1 <= text2:\n",
        "        print('Strings em ordem alfabetica:')\n",
        "        print(text3)\n",
        "        print(text1)\n",
        "        print(text2)\n",
        "    else:\n",
        "        print('Strings em ordem alfabetica:')\n",
        "        print(text3)\n",
        "        print(text2)\n",
        "        print(text1)"
      ],
      "metadata": {
        "colab": {
          "base_uri": "https://localhost:8080/"
        },
        "id": "MZfbC0GD6MIx",
        "outputId": "3087e4ac-9dec-4fea-dd78-921ee6ed8403"
      },
      "execution_count": null,
      "outputs": [
        {
          "output_type": "stream",
          "name": "stdout",
          "text": [
            "Digite uma letra do alfabeto: a\n",
            "Digite outra letra do alfabeto: b\n",
            "Digite mais uma letra do alfabeto: c\n",
            "Strings em ordem alfabetica:\n",
            "a\n",
            "b\n",
            "c\n"
          ]
        }
      ]
    },
    {
      "cell_type": "markdown",
      "source": [
        "13 - Faça um programa que peça a informação se o usuário é homem ou mulher, o peso, a altura e a idade e mostre na tela o TMB em calorias.\n",
        "A Taxa Metabólica Basal (TMB) é a quantidade mínima de energia que o corpo precisa para manter as funções vitais, como respiração, circulação e temperatura corporal, em repouso. A TMB representa cerca de 60% a 70% do gasto energético total diário de uma pessoa e varia de acordo com o sexo, a idade, o peso e a altura.\n",
        "\n",
        "Para calcular a TMB manualmente, você deve usar as seguintes fórmulas da equação de Harris-Benedict:\n",
        "\n",
        "Para homens: TMB = 66,47 + (13,75 x peso em kg) + (5,003 x altura em cm) - (6,755 x idade em anos)\n",
        "\n",
        "Para mulheres: TMB = 655,09 + (9,563 x peso em kg) + (1,85 x altura em cm) - (4,676 x idade em anos)"
      ],
      "metadata": {
        "id": "3lVpP0yAFQrw"
      }
    },
    {
      "cell_type": "code",
      "source": [
        "print(\"=== Cálculo da Taxa Metabólica Basal (TMB) ===\")\n",
        "\n",
        "\n",
        "sexo = input(\"Informe o sexo (homem ou mulher): \")\n",
        "peso = float(input(\"Informe o peso em kg: \"))\n",
        "altura = float(input(\"Informe a altura em cm: \"))\n",
        "idade = int(input(\"Informe a idade em anos: \"))\n",
        "\n",
        "\n",
        "if sexo == \"homem\" or sexo == \"Homem\":\n",
        "    tmb = 66.47 + (13.75 * peso) + (5.003 * altura) - (6.755 * idade)\n",
        "    print(\"\\nSua Taxa Metabólica Basal (TMB) é:\", tmb, \"calorias por dia.\")\n",
        "elif sexo == \"mulher\" or sexo == \"Mulher\":\n",
        "    tmb = 655.09 + (9.563 * peso) + (1.85 * altura) - (4.676 * idade)\n",
        "    print(\"\\nSua Taxa Metabólica Basal (TMB) é:\", tmb, \"calorias por dia.\")\n",
        "else:\n",
        "    print(\"\\nSexo inválido. Por favor, digite exatamente 'homem' ou 'mulher'.\")"
      ],
      "metadata": {
        "colab": {
          "base_uri": "https://localhost:8080/"
        },
        "id": "N57vC4KK6MAh",
        "outputId": "c1d11514-ad98-4f68-cbf0-f3c02069e5d9"
      },
      "execution_count": null,
      "outputs": [
        {
          "output_type": "stream",
          "name": "stdout",
          "text": [
            "=== Cálculo da Taxa Metabólica Basal (TMB) ===\n",
            "Informe o sexo (homem ou mulher): homem\n",
            "Informe o peso em kg: 62.500\n",
            "Informe a altura em cm: 1.68\n",
            "Informe a idade em anos: 18\n",
            "\n",
            "Sua Taxa Metabólica Basal (TMB) é: 812.66004 calorias por dia.\n"
          ]
        }
      ]
    },
    {
      "cell_type": "markdown",
      "source": [
        "14 - Faça um programa que peça um número inteiro para o usuário e mostra a tabuada desse número."
      ],
      "metadata": {
        "id": "0dxtyW4XGoNC"
      }
    },
    {
      "cell_type": "code",
      "source": [
        "numero = int(input(\"Digite um número inteiro para ver sua tabuada: \"))\n",
        "\n",
        "print(\"\\nTabuada de\", numero)\n",
        "print(f\"{numero} x 1 = {numero * 1}\")\n",
        "print(f\"{numero} x 2 = {numero * 2}\")\n",
        "print(f\"{numero} x 3 = {numero * 3}\")\n",
        "print(f\"{numero} x 4 = {numero * 4}\")\n",
        "print(f\"{numero} x 5 = {numero * 5}\")\n",
        "print(f\"{numero} x 6 = {numero * 6}\")\n",
        "print(f\"{numero} x 7 = {numero * 7}\")\n",
        "print(f\"{numero} x 8 = {numero * 8}\")\n",
        "print(f\"{numero} x 9 = {numero * 9}\")\n",
        "print(f\"{numero} x 10 = {numero * 10}\")"
      ],
      "metadata": {
        "colab": {
          "base_uri": "https://localhost:8080/"
        },
        "id": "f7n-KW9M6KOB",
        "outputId": "7e50a65e-1684-4776-e75f-43ce31ed0975"
      },
      "execution_count": null,
      "outputs": [
        {
          "output_type": "stream",
          "name": "stdout",
          "text": [
            "Digite um número inteiro para ver sua tabuada: 10\n",
            "\n",
            "Tabuada de 10\n",
            "10 x 1 = 10\n",
            "10 x 2 = 20\n",
            "10 x 3 = 30\n",
            "10 x 4 = 40\n",
            "10 x 5 = 50\n",
            "10 x 6 = 60\n",
            "10 x 7 = 70\n",
            "10 x 8 = 80\n",
            "10 x 9 = 90\n",
            "10 x 10 = 100\n"
          ]
        }
      ]
    }
  ]
}