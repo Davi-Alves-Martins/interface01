{
  "nbformat": 4,
  "nbformat_minor": 0,
  "metadata": {
    "colab": {
      "provenance": [],
      "authorship_tag": "ABX9TyO8LriGlL70rwL9f7P32e/b",
      "include_colab_link": true
    },
    "kernelspec": {
      "name": "python3",
      "display_name": "Python 3"
    },
    "language_info": {
      "name": "python"
    }
  },
  "cells": [
    {
      "cell_type": "markdown",
      "metadata": {
        "id": "view-in-github",
        "colab_type": "text"
      },
      "source": [
        "<a href=\"https://colab.research.google.com/github/Davi-Alves-Martins/interface01/blob/master/Lista_1.ipynb\" target=\"_parent\"><img src=\"https://colab.research.google.com/assets/colab-badge.svg\" alt=\"Open In Colab\"/></a>"
      ]
    },
    {
      "cell_type": "code",
      "execution_count": null,
      "metadata": {
        "colab": {
          "base_uri": "https://localhost:8080/"
        },
        "id": "KOBErHC4A1AC",
        "outputId": "53a20af2-8c0b-41b8-e9a2-d3fe81c27ace"
      },
      "outputs": [
        {
          "output_type": "stream",
          "name": "stdout",
          "text": [
            "Davi\n",
            "Digite seu nome: \n",
            "davi\n",
            "Digite seu sobrenome:\n",
            "martins\n",
            "davi martins\n",
            "X     X\n",
            " X   X \n",
            "  X X  \n",
            "   X   \n",
            "  X X  \n",
            " X   X \n",
            "X     X\n",
            "Digite o dia de seu aniversário: 4\n",
            "Digite o mês de seu aniversário: 5\n",
            "Faltam 32 dias para o seu aniversário!\n"
          ]
        }
      ],
      "source": [
        "## Desafio\n",
        "## 1° - escreva o seu nome\n",
        "\n",
        "print(\"Davi\")\n",
        "\n",
        "## 2° - escreva seu nome e sobrenome\n",
        "\n",
        "print('Digite seu nome: ')\n",
        "\n",
        "nome = str(input())\n",
        "\n",
        "print('Digite seu sobrenome:')\n",
        "sobrenome = str(input())\n",
        "\n",
        "print(nome + \" \" + sobrenome)\n",
        "\n",
        "## 3° - Faça um programa que mostra um X bem grande na tela, utilizando o print (Um ou mais vezes). OBS: esse X deverá ter, pelo meos altura de 7 caracteres. Desafia: Fazer essa tarefa em um único print\n",
        "\n",
        "tamanho = 7\n",
        "for i in range(tamanho):\n",
        "        linha = [\" \"] * tamanho\n",
        "        linha[i] = \"X\"\n",
        "        linha[tamanho - 1 - i] = \"X\"\n",
        "        print(\"\".join(linha))\n",
        "\n",
        "## 4° - Faça um programa que pede o dia e mês de aniversário e diz quantos dias faltam para o aniversário\n",
        "\n",
        "dia = int(input('Digite o dia de seu aniversário: '))\n",
        "mes = int(input('Digite o mês de seu aniversário: '))\n",
        "m = \"m\"\n",
        "s = \"s\"\n",
        "if mes == 4:\n",
        "    diff_dias = dia - 2\n",
        "    if diff_dias == 1:\n",
        "       m = ''\n",
        "       s = ''\n",
        "\n",
        "    if diff_dias == 0:\n",
        "         print(\"Feliz aniversário!\")\n",
        "    elif diff_dias > 0:\n",
        "         print(f\"Falta{m} {diff_dias} dia{s} para seu aniversário!\")\n",
        "    else:\n",
        "         print(f\"Passaram {-1 * diff_dias} dias de seu aniversário!\")\n",
        "\n",
        "elif mes == 5:\n",
        "    dias_faltantes = 28 + dia\n",
        "    print(f'Faltam {dias_faltantes} dias para o seu aniversário!')\n",
        "\n",
        "elif mes == 6:\n",
        "    dias_faltantes = 59 + dia\n",
        "    print(f'Faltam {dias_faltantes} dias para o seu aniversário')\n",
        "\n",
        "    ## E Assim por diante"
      ]
    }
  ]
}